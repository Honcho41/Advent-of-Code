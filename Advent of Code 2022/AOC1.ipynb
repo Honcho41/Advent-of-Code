{
 "cells": [
  {
   "cell_type": "code",
   "execution_count": 12,
   "metadata": {},
   "outputs": [
    {
     "name": "stdout",
     "output_type": "stream",
     "text": [
      "Part 1 -> 68802\n"
     ]
    }
   ],
   "source": [
    "calorieList = []\n",
    "with open('input.txt') as file1:\n",
    "    tempSum = 0\n",
    "    while True:\n",
    "        line = file1.readline()\n",
    "        if line == '':\n",
    "            calorieList.append(tempSum)\n",
    "            break\n",
    "        elif line == '\\n':\n",
    "            calorieList.append(tempSum)\n",
    "            tempSum = 0\n",
    "        else:\n",
    "            line = line.strip('\\n')\n",
    "            tempSum += int(line)\n",
    "\n",
    "calorieList.sort()\n",
    "print('Part 1 ->', calorieList[-1])"
   ]
  },
  {
   "cell_type": "code",
   "execution_count": 14,
   "metadata": {},
   "outputs": [
    {
     "name": "stdout",
     "output_type": "stream",
     "text": [
      "Part 2 -> 205370\n"
     ]
    }
   ],
   "source": [
    "print('Part 2 ->', sum(calorieList[-3:]))"
   ]
  },
  {
   "cell_type": "code",
   "execution_count": null,
   "metadata": {},
   "outputs": [],
   "source": []
  }
 ],
 "metadata": {
  "kernelspec": {
   "display_name": "Python 3",
   "language": "python",
   "name": "python3"
  },
  "language_info": {
   "codemirror_mode": {
    "name": "ipython",
    "version": 3
   },
   "file_extension": ".py",
   "mimetype": "text/x-python",
   "name": "python",
   "nbconvert_exporter": "python",
   "pygments_lexer": "ipython3",
   "version": "3.8.5"
  }
 },
 "nbformat": 4,
 "nbformat_minor": 4
}
