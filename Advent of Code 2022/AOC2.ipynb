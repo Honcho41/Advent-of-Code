{
 "cells": [
  {
   "cell_type": "code",
   "execution_count": 9,
   "metadata": {},
   "outputs": [
    {
     "name": "stdout",
     "output_type": "stream",
     "text": [
      "Part 1: 14375\n",
      "Part 2: 10274\n"
     ]
    }
   ],
   "source": [
    "with open('day2input.txt', 'r') as f:\n",
    "    games = f.read().split('\\n')\n",
    "\n",
    "WIN = 6\n",
    "DRAW = 3\n",
    "LOSS = 0\n",
    "\n",
    "ROCK = 1\n",
    "PAPER = 2\n",
    "SCISSORS = 3\n",
    "\n",
    "game_scores = {\n",
    "    'A X': DRAW + ROCK,\n",
    "    'A Y': WIN + PAPER,\n",
    "    'A Z': LOSS + SCISSORS,\n",
    "    'B X': LOSS + ROCK,\n",
    "    'B Y': DRAW + PAPER,\n",
    "    'B Z': WIN + SCISSORS,\n",
    "    'C X': WIN + ROCK,\n",
    "    'C Y': LOSS + PAPER,\n",
    "    'C Z': DRAW + SCISSORS,\n",
    "}\n",
    "\n",
    "print(f'Part 1: {sum([game_scores.get(game, 0) for game in games])}')\n",
    "\n",
    "game_scores = {\n",
    "    'A X': LOSS + SCISSORS,\n",
    "    'A Y': DRAW + ROCK,\n",
    "    'A Z': WIN + PAPER,\n",
    "    'B X': LOSS + ROCK,\n",
    "    'B Y': DRAW + PAPER,\n",
    "    'B Z': WIN + SCISSORS,\n",
    "    'C X': LOSS + PAPER,\n",
    "    'C Y': DRAW + SCISSORS,\n",
    "    'C Z': WIN + ROCK,\n",
    "}\n",
    "\n",
    "print(f'Part 2: {sum([game_scores.get(game, 0) for game in games])}')"
   ]
  },
  {
   "cell_type": "code",
   "execution_count": null,
   "metadata": {},
   "outputs": [],
   "source": []
  }
 ],
 "metadata": {
  "kernelspec": {
   "display_name": "Python 3",
   "language": "python",
   "name": "python3"
  },
  "language_info": {
   "codemirror_mode": {
    "name": "ipython",
    "version": 3
   },
   "file_extension": ".py",
   "mimetype": "text/x-python",
   "name": "python",
   "nbconvert_exporter": "python",
   "pygments_lexer": "ipython3",
   "version": "3.8.5"
  }
 },
 "nbformat": 4,
 "nbformat_minor": 4
}
