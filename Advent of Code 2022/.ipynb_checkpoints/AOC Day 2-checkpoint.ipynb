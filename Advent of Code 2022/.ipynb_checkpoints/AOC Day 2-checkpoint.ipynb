{
 "cells": [
  {
   "cell_type": "code",
   "execution_count": 19,
   "metadata": {},
   "outputs": [],
   "source": [
    "A = 1 #rock\n",
    "B = 2 #paper\n",
    "C = 3 #scissors\n",
    "\n",
    "X = 1 #rock\n",
    "Y = 2 #paper\n",
    "Z = 3 #scissors"
   ]
  },
  {
   "cell_type": "code",
   "execution_count": 20,
   "metadata": {},
   "outputs": [
    {
     "name": "stdout",
     "output_type": "stream",
     "text": [
      "Draw\n"
     ]
    }
   ],
   "source": [
    "if A == X:\n",
    "    print(\"Draw\")"
   ]
  },
  {
   "cell_type": "code",
   "execution_count": 108,
   "metadata": {},
   "outputs": [],
   "source": [
    "def RPS(x,y):\n",
    "    global score\n",
    "    \n",
    "    #for a draw\n",
    "    if x == y:\n",
    "        score += (y+3)\n",
    "    \n",
    "    #if player 1 selects rock\n",
    "    elif x == 1:\n",
    "        if y == 2: #paper\n",
    "            score += (y+6)\n",
    "        elif y == 3: #scissors\n",
    "            score += (y+0)\n",
    "    \n",
    "    #player 1 selects paper\n",
    "    elif x == 2:\n",
    "        if y == 1: #rock\n",
    "            score += (y+0)\n",
    "        elif y == 3: #scissors\n",
    "            score += (y+6)\n",
    "            \n",
    "    #player 1 selects scissors\n",
    "    elif x == 3:\n",
    "        if y == 1: #rock\n",
    "            score += (y+6)\n",
    "        elif y == 2: #paper\n",
    "            score += (y+0)\n",
    "            \n",
    "    print(score)\n",
    "    return score\n",
    "            "
   ]
  },
  {
   "cell_type": "code",
   "execution_count": 95,
   "metadata": {},
   "outputs": [],
   "source": [
    "sample = [\n",
    "    (A,Y),\n",
    "    (B,X),\n",
    "    (C,Z)\n",
    "]"
   ]
  },
  {
   "cell_type": "code",
   "execution_count": 96,
   "metadata": {},
   "outputs": [
    {
     "data": {
      "text/plain": [
       "3"
      ]
     },
     "execution_count": 96,
     "metadata": {},
     "output_type": "execute_result"
    }
   ],
   "source": [
    "score = 0\n",
    "RPS(A,Z)"
   ]
  },
  {
   "cell_type": "code",
   "execution_count": 97,
   "metadata": {},
   "outputs": [
    {
     "data": {
      "text/plain": [
       "[(1, 2), (2, 1), (3, 3)]"
      ]
     },
     "execution_count": 97,
     "metadata": {},
     "output_type": "execute_result"
    }
   ],
   "source": [
    "sample"
   ]
  },
  {
   "cell_type": "code",
   "execution_count": 109,
   "metadata": {},
   "outputs": [
    {
     "name": "stdout",
     "output_type": "stream",
     "text": [
      "8\n",
      "9\n",
      "15\n"
     ]
    }
   ],
   "source": [
    "score = 0\n",
    "for tup in sample:\n",
    "    RPS(tup[0],tup[1])"
   ]
  },
  {
   "cell_type": "code",
   "execution_count": 110,
   "metadata": {},
   "outputs": [
    {
     "data": {
      "text/plain": [
       "15"
      ]
     },
     "execution_count": 110,
     "metadata": {},
     "output_type": "execute_result"
    }
   ],
   "source": [
    "score"
   ]
  },
  {
   "cell_type": "code",
   "execution_count": null,
   "metadata": {},
   "outputs": [],
   "source": []
  }
 ],
 "metadata": {
  "kernelspec": {
   "display_name": "Python 3",
   "language": "python",
   "name": "python3"
  },
  "language_info": {
   "codemirror_mode": {
    "name": "ipython",
    "version": 3
   },
   "file_extension": ".py",
   "mimetype": "text/x-python",
   "name": "python",
   "nbconvert_exporter": "python",
   "pygments_lexer": "ipython3",
   "version": "3.8.5"
  }
 },
 "nbformat": 4,
 "nbformat_minor": 4
}
