{
 "cells": [
  {
   "cell_type": "code",
   "execution_count": 1,
   "metadata": {},
   "outputs": [
    {
     "name": "stdout",
     "output_type": "stream",
     "text": [
      "8176\n"
     ]
    }
   ],
   "source": [
    "#defining function to convert letters to priority values\n",
    "def letters_to_values(letter):\n",
    "    value_dict = {\n",
    "        'a': 1, 'b': 2, 'c': 3, 'd': 4, 'e': 5, 'f': 6, 'g': 7, 'h': 8, 'i': 9, 'j': 10,\n",
    "        'k': 11, 'l': 12, 'm': 13, 'n': 14, 'o': 15, 'p': 16, 'q': 17, 'r': 18, 's': 19,\n",
    "        't': 20, 'u': 21, 'v': 22, 'w': 23, 'x': 24, 'y': 25, 'z': 26, 'A': 27, 'B': 28,\n",
    "        'C': 29, 'D': 30, 'E': 31, 'F': 32, 'G': 33, 'H': 34, 'I': 35, 'J': 36, 'K': 37,\n",
    "        'L': 38, 'M': 39, 'N': 40, 'O': 41, 'P': 42, 'Q': 43, 'R': 44, 'S': 45, 'T': 46,\n",
    "        'U': 47, 'V': 48, 'W': 49, 'X': 50, 'Y': 51, 'Z': 52\n",
    "    }\n",
    "\n",
    "    value = value_dict[letter]\n",
    "    return value\n",
    "\n",
    "#Setting up variables\n",
    "file_to_use = 'day3input.txt'\n",
    "pocket_one = []\n",
    "pocket_two = []\n",
    "inventory_list = []\n",
    "value_list = []\n",
    "i = 0\n",
    "\n",
    "\n",
    "#reading the file line by line and splitting the lines into two lists to ease comparison\n",
    "with open(file_to_use, 'r') as file:\n",
    "    contents = file.readlines()\n",
    "    for line in contents:\n",
    "        #this is the mid point of each string\n",
    "        split_point = (len(line) // 2)\n",
    "        x = line.replace('\\n', '')\n",
    "        pocket_one.append(x[0:split_point])\n",
    "        pocket_two.append(x[split_point:])\n",
    "\n",
    "#this is to compare the items each of the pockets and to stop when a match is made\n",
    "#and append the match to the inventory list    \n",
    "while i < len(pocket_one):\n",
    "    for char in pocket_one[i]:\n",
    "        for letter in pocket_two[i]:\n",
    "            if char == letter:\n",
    "                inventory_list.append(char)\n",
    "                break\n",
    "        if char == letter:\n",
    "            break        \n",
    "    i += 1\n",
    "\n",
    "#this is to convert the matched items to their priority values\n",
    "for char in inventory_list:\n",
    "    val = letters_to_values(char)\n",
    "    value_list.append(val)\n",
    "\n",
    "#this is to find the sum of the value list\n",
    "print(sum(value_list))"
   ]
  },
  {
   "cell_type": "code",
   "execution_count": 2,
   "metadata": {},
   "outputs": [
    {
     "name": "stdout",
     "output_type": "stream",
     "text": [
      "2689\n"
     ]
    }
   ],
   "source": [
    "\n",
    "#defining function to convert letters to priority values\n",
    "def letters_to_values(letter):\n",
    "    value_dict = {\n",
    "        'a': 1, 'b': 2, 'c': 3, 'd': 4, 'e': 5, 'f': 6, 'g': 7, 'h': 8, 'i': 9, 'j': 10,\n",
    "        'k': 11, 'l': 12, 'm': 13, 'n': 14, 'o': 15, 'p': 16, 'q': 17, 'r': 18, 's': 19,\n",
    "        't': 20, 'u': 21, 'v': 22, 'w': 23, 'x': 24, 'y': 25, 'z': 26, 'A': 27, 'B': 28,\n",
    "        'C': 29, 'D': 30, 'E': 31, 'F': 32, 'G': 33, 'H': 34, 'I': 35, 'J': 36, 'K': 37,\n",
    "        'L': 38, 'M': 39, 'N': 40, 'O': 41, 'P': 42, 'Q': 43, 'R': 44, 'S': 45, 'T': 46,\n",
    "        'U': 47, 'V': 48, 'W': 49, 'X': 50, 'Y': 51, 'Z': 52\n",
    "    }\n",
    "\n",
    "    value = value_dict[letter]\n",
    "    return value\n",
    "\n",
    "#setting up variables\n",
    "file_to_use = 'day3input.txt'\n",
    "elf_group_list = []\n",
    "sub_group_list = []\n",
    "badge_list = []\n",
    "value_list = []\n",
    "i = 0\n",
    "\n",
    "#this is to read the inventory list\n",
    "with open(file_to_use, 'r') as file:\n",
    "    contents = file.readlines()\n",
    "\n",
    "#this is to split the elves into groups by iterating through the contents object\n",
    "for item in contents:\n",
    "    x = item.replace('\\n', '')\n",
    "    sub_group_list.append(x)\n",
    "    i += 1\n",
    "    #print(sub_group_list)\n",
    "    if i == 3:\n",
    "        elf_group_list.append(sub_group_list)\n",
    "        i = 0\n",
    "        sub_group_list = []\n",
    "\n",
    "#this finds the matching letter for each group\n",
    "while i < len(elf_group_list):\n",
    "    for char in elf_group_list[i][0]:\n",
    "        z = char\n",
    "        if z in elf_group_list[i][1] and z in elf_group_list[i][2]:\n",
    "            badge_list.append(z)\n",
    "            break\n",
    "    i += 1\n",
    "\n",
    "#this is to convert the matched items to their priority values\n",
    "for char in badge_list:\n",
    "    val = letters_to_values(char)\n",
    "    value_list.append(val)\n",
    "\n",
    "\n",
    "#this is to find the sum of the value list\n",
    "print(sum(value_list))\n",
    "\n"
   ]
  },
  {
   "cell_type": "code",
   "execution_count": null,
   "metadata": {},
   "outputs": [],
   "source": []
  }
 ],
 "metadata": {
  "kernelspec": {
   "display_name": "Python 3",
   "language": "python",
   "name": "python3"
  },
  "language_info": {
   "codemirror_mode": {
    "name": "ipython",
    "version": 3
   },
   "file_extension": ".py",
   "mimetype": "text/x-python",
   "name": "python",
   "nbconvert_exporter": "python",
   "pygments_lexer": "ipython3",
   "version": "3.8.5"
  }
 },
 "nbformat": 4,
 "nbformat_minor": 4
}
