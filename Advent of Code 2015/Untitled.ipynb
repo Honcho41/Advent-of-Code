{
 "cells": [
  {
   "cell_type": "code",
   "execution_count": 4,
   "metadata": {},
   "outputs": [
    {
     "name": "stdout",
     "output_type": "stream",
     "text": [
      "Total paper needed: 1586300\n",
      "Total ribbon needed: 3737498\n"
     ]
    }
   ],
   "source": [
    "verbose = False\n",
    "\n",
    "f = open('2015-Day_2.txt')\n",
    "\n",
    "total_paper = 0\n",
    "total_ribbon = 0\n",
    "for line in f:\n",
    "    if verbose:\n",
    "        print(\"line:\", line)\n",
    "    l, w, d = line.split('x')\n",
    "    l, w, d = int(l), int(w), int(d)\n",
    "    if verbose:\n",
    "        print(\"Dimensions:\", l, w, d)\n",
    "\n",
    "    # paper\n",
    "    s1 = l * w\n",
    "    s2 = l * d\n",
    "    s3 = w * d\n",
    "    extra = min(s1, s2, s3)\n",
    "    paper_needed = 2*s1 + 2*s2 + 2*s3 + extra\n",
    "    if verbose:\n",
    "        print(\"Paper needed for present:\", paper_needed)\n",
    "    total_paper += paper_needed\n",
    "\n",
    "    # ribbon\n",
    "    ribbon = min(l+l+w+w, l+l+d+d, w+w+d+d)\n",
    "    bow = l * w * d\n",
    "    total_ribbon += (ribbon + bow)\n",
    "\n",
    "print(\"Total paper needed:\", total_paper)\n",
    "print(\"Total ribbon needed:\", total_ribbon)"
   ]
  },
  {
   "cell_type": "code",
   "execution_count": null,
   "metadata": {},
   "outputs": [],
   "source": []
  }
 ],
 "metadata": {
  "kernelspec": {
   "display_name": "Python 3",
   "language": "python",
   "name": "python3"
  },
  "language_info": {
   "codemirror_mode": {
    "name": "ipython",
    "version": 3
   },
   "file_extension": ".py",
   "mimetype": "text/x-python",
   "name": "python",
   "nbconvert_exporter": "python",
   "pygments_lexer": "ipython3",
   "version": "3.8.5"
  }
 },
 "nbformat": 4,
 "nbformat_minor": 4
}
